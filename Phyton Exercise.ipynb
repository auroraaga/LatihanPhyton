{
 "cells": [
  {
   "cell_type": "code",
   "execution_count": 1,
   "id": "1b1d7ffb-df96-4d30-a39b-6f763f6c8dbe",
   "metadata": {},
   "outputs": [],
   "source": [
    "import Bio"
   ]
  },
  {
   "cell_type": "code",
   "execution_count": 2,
   "id": "b73d93e5-289e-431e-84ec-13053378d2e3",
   "metadata": {},
   "outputs": [
    {
     "name": "stdout",
     "output_type": "stream",
     "text": [
      "b'<?xml version=\"1.0\" encoding=\"UTF-8\" ?>\\n<!DOCTYPE eInfoResult PUBLIC \"-//NLM//DTD einfo 20190110//EN\" \"https://eutils.ncbi.nlm.nih.gov/eutils/dtd/20190110/einfo.dtd\">\\n<eInfoResult>\\n<DbList>\\n\\n\\t<DbName>pubmed</DbName>\\n\\t<DbName>protein</DbName>\\n\\t<DbName>nuccore</DbName>\\n\\t<DbName>ipg</DbName>\\n\\t<DbName>nucleotide</DbName>\\n\\t<DbName>structure</DbName>\\n\\t<DbName>genome</DbName>\\n\\t<DbName>annotinfo</DbName>\\n\\t<DbName>assembly</DbName>\\n\\t<DbName>bioproject</DbName>\\n\\t<DbName>biosample</DbName>\\n\\t<DbName>blastdbinfo</DbName>\\n\\t<DbName>books</DbName>\\n\\t<DbName>cdd</DbName>\\n\\t<DbName>clinvar</DbName>\\n\\t<DbName>gap</DbName>\\n\\t<DbName>gapplus</DbName>\\n\\t<DbName>grasp</DbName>\\n\\t<DbName>dbvar</DbName>\\n\\t<DbName>gene</DbName>\\n\\t<DbName>gds</DbName>\\n\\t<DbName>geoprofiles</DbName>\\n\\t<DbName>homologene</DbName>\\n\\t<DbName>medgen</DbName>\\n\\t<DbName>mesh</DbName>\\n\\t<DbName>ncbisearch</DbName>\\n\\t<DbName>nlmcatalog</DbName>\\n\\t<DbName>omim</DbName>\\n\\t<DbName>orgtrack</DbName>\\n\\t<DbName>pmc</DbName>\\n\\t<DbName>popset</DbName>\\n\\t<DbName>proteinclusters</DbName>\\n\\t<DbName>pcassay</DbName>\\n\\t<DbName>protfam</DbName>\\n\\t<DbName>biosystems</DbName>\\n\\t<DbName>pccompound</DbName>\\n\\t<DbName>pcsubstance</DbName>\\n\\t<DbName>seqannot</DbName>\\n\\t<DbName>snp</DbName>\\n\\t<DbName>sra</DbName>\\n\\t<DbName>taxonomy</DbName>\\n\\t<DbName>biocollections</DbName>\\n\\t<DbName>gtr</DbName>\\n</DbList>\\n\\n</eInfoResult>\\n'\n"
     ]
    }
   ],
   "source": [
    "#Code 1\n",
    "from Bio import Entrez\n",
    "Entrez.email = \"localuser@localhost.localdomain\" #Mandatory! Can be replaced with your personal email.\n",
    "\n",
    "#creating handle\n",
    "handle = Entrez.einfo() #invoking Bio.Entrez.einfo()\n",
    "print(handle.read())\n",
    "handle.close() #always close your handle after you finish\n"
   ]
  },
  {
   "cell_type": "code",
   "execution_count": 3,
   "id": "c1da29d8-dee7-4f4e-91cd-35a509a9bac0",
   "metadata": {},
   "outputs": [
    {
     "name": "stdout",
     "output_type": "stream",
     "text": [
      "{'Count': '0', 'RetMax': '0', 'RetStart': '0', 'IdList': [], 'TranslationSet': [{'From': 'Erinaceinae', 'To': '\"Erinaceinae\"[Organism] OR Erinaceinae[All Fields]'}], 'TranslationStack': [{'Term': '\"Erinaceinae\"[Organism]', 'Field': 'Organism', 'Count': '229710', 'Explode': 'Y'}, {'Term': 'Erinaceinae[All Fields]', 'Field': 'All Fields', 'Count': '2', 'Explode': 'N'}, 'OR', 'GROUP', {'Term': 'rbcL[All Fields]', 'Field': 'All Fields', 'Count': '353781', 'Explode': 'N'}, 'AND', 'GROUP'], 'QueryTranslation': '(\"Erinaceinae\"[Organism] OR Erinaceinae[All Fields]) AND rbcL[All Fields]'}\n"
     ]
    }
   ],
   "source": [
    "#Code 1\n",
    "from Bio import Entrez\n",
    "Entrez.email = \"localuser@localhost.localdomain\" #Mandatory! Can be replaced with your personal email.\n",
    "\n",
    "#creating handle\n",
    "handle = Entrez.esearch(db=\"nuccore\", term=\"Erinaceinae rbcL\")\n",
    "record = Entrez.read(handle)\n",
    "print(record)\n",
    "handle.close() #always close your handle after you finish\n"
   ]
  },
  {
   "cell_type": "code",
   "execution_count": 4,
   "id": "a5a0304a-b9da-4ff4-a134-6a0416ea510e",
   "metadata": {},
   "outputs": [
    {
     "name": "stdout",
     "output_type": "stream",
     "text": [
      "{'Count': '2', 'RetMax': '2', 'RetStart': '0', 'IdList': ['2077483947', '2076534810'], 'TranslationSet': [{'From': 'Camellia sinensis', 'To': '\"Camellia sinensis\"[Organism] OR Camellia sinensis[All Fields]'}], 'TranslationStack': [{'Term': '\"Camellia sinensis\"[Organism]', 'Field': 'Organism', 'Count': '517591', 'Explode': 'Y'}, {'Term': 'Camellia sinensis[All Fields]', 'Field': 'All Fields', 'Count': '548208', 'Explode': 'N'}, 'OR', 'GROUP', {'Term': 'mitochondria[All Fields]', 'Field': 'All Fields', 'Count': '53719', 'Explode': 'N'}, 'AND', {'Term': 'rbcL[All Fields]', 'Field': 'All Fields', 'Count': '353781', 'Explode': 'N'}, 'AND', 'GROUP'], 'QueryTranslation': '(\"Camellia sinensis\"[Organism] OR Camellia sinensis[All Fields]) AND mitochondria[All Fields] AND rbcL[All Fields]'}\n"
     ]
    }
   ],
   "source": [
    "#Code 3\n",
    "from Bio import Entrez\n",
    "Entrez.email = \"localuser@localhost.localdomain\" #Mandatory! Can be replaced with your personal email.\n",
    "\n",
    "#creating handle\n",
    "handle = Entrez.esearch(db=\"nuccore\", term=\"Camellia sinensis mitochondria rbcL\")\n",
    "record = Entrez.read(handle)\n",
    "print(record)\n"
   ]
  },
  {
   "cell_type": "code",
   "execution_count": 5,
   "id": "3fa022ce-5ad3-481e-b830-64f55bab4124",
   "metadata": {},
   "outputs": [
    {
     "name": "stdout",
     "output_type": "stream",
     "text": [
      "LOCUS       CK506784                 628 bp    mRNA    linear   EST 11-JAN-2011\n",
      "DEFINITION  rswcc0_012524.y1 swc Bombyx mori cDNA, mRNA sequence.\n",
      "ACCESSION   CK506784\n",
      "VERSION     CK506784.1\n",
      "DBLINK      BioSample: SAMN00174507\n",
      "KEYWORDS    EST.\n",
      "SOURCE      Bombyx mori (domestic silkworm)\n",
      "  ORGANISM  Bombyx mori\n",
      "            Eukaryota; Metazoa; Ecdysozoa; Arthropoda; Hexapoda; Insecta;\n",
      "            Pterygota; Neoptera; Endopterygota; Lepidoptera; Glossata;\n",
      "            Ditrysia; Bombycoidea; Bombycidae; Bombycinae; Bombyx.\n",
      "REFERENCE   1  (bases 1 to 628)\n",
      "  AUTHORS   Xia,Q., Zhou,Z., Lu,C., Cheng,D., Dai,F., Li,B., Zhao,P., Zha,X.,\n",
      "            Cheng,T., Chai,C., Pan,G., Xu,J., Liu,C., Lin,Y., Qian,J., Hou,Y.,\n",
      "            Wu,Z., Li,G., Pan,M., Li,C., Shen,Y., Lan,X., Yuan,L., Li,T.,\n",
      "            Xu,H., Yang,G., Wan,Y., Zhu,Y., Yu,M., Shen,W., Wu,D., Xiang,Z.,\n",
      "            Yu,J., Wang,J., Li,R.Q., Shi,J.P., Li,H., Li,G.Y., Su,J.N.,\n",
      "            Wang,X.L., Li,G.Q., Zhang,Z.J., Wu,Q.F., Li,J., Zhang,Q.P., Wei,N.,\n",
      "            Xu,J.Z., Sun,H.B., Dong,L., Liu,D.Y., Zhao,S.L., Zhao,X.L.,\n",
      "            Meng,Q.S., Lan,F.D., Huang,X.G., Li,Y.Z., Fang,F., Li,C.F.,\n",
      "            Li,D.W., Sun,Y.Q., Zhang,Z.P., Yang,Z., Huang,Y.Q., Xi,Y., Qi,Q.H.,\n",
      "            He,D.D., Huang,H.Y., Zhang,X.W., Wang,Z.Q., Li,W.J., Cao,Y.Z.,\n",
      "            Yu,Y., Yu,H., Ji,H., Ye,J., Chen,H., Zhou,Y., Liu,B., Wang,J.,\n",
      "            Ye,J., Ji,H., Li,S., Ni,P., Zhang,J., Zhang,Y., Zheng,H., Mao,B.,\n",
      "            Mao,B., Ye,C., Li,S., Wang,J., Wong,G.K. and Yang,H.\n",
      "  TITLE     A draft sequence for the genome of the domesticated silkworm\n",
      "            (Bombyx mori)\n",
      "  JOURNAL   Science 306 (5703), 1937-1940 (2004)\n",
      "   PUBMED   15591204\n",
      "COMMENT     Contact: Zhonghuai Xiang\n",
      "            Southwest Agricultural University\n",
      "            Chongqing Beibei\n",
      "            Tel: 86-23-68251123\n",
      "            Fax: 86-23-68251128\n",
      "            Email: xzh@swau.cq.cn.\n",
      "FEATURES             Location/Qualifiers\n",
      "     source          1..628\n",
      "                     /organism=\"Bombyx mori\"\n",
      "                     /mol_type=\"mRNA\"\n",
      "                     /strain=\"DaZhao(P50)\"\n",
      "                     /db_xref=\"taxon:7091\"\n",
      "                     /sex=\"female\"\n",
      "                     /tissue_type=\"Fat body\"\n",
      "                     /clone_lib=\"SAMN00174507 swc\"\n",
      "                     /dev_stage=\"5th-instar day-3 larva\"\n",
      "                     /note=\"Vector: pBluescript II SK(+)\"\n",
      "ORIGIN      \n",
      "        1 cccgggctgc aggaatcgaa tccgtttggt aagatcaatc caatatgact ctcatatggt\n",
      "       61 gacggtatga taactcagga gaatgtaaac atctaatcga cttagagtaa aaatgtaata\n",
      "      121 atttttacaa ggtcaatagg aagtgagtat gtaggaggcc tctgtgagtc cagacggtct\n",
      "      181 aaaagagttt ttaacaactt atgaagtagg aacgttgact cgtaaatttt tcgatggctt\n",
      "      241 cttcaatatt tgtgcagtct taatattact tgtattcatc cagtactagt agttgtaagg\n",
      "      301 tgttagattt aaaaaagaaa aaaaaactgt agtttttata aactgtcatt tttttgcatt\n",
      "      361 ctgtgtaaat aattatcgtt ttcggtactt tatacaaacg tattttgtaa agcgatggat\n",
      "      421 ttatacagtt tttattctat ataagtcatt tttattatta taatttacgg ttttcattac\n",
      "      481 ctagtaatca tgtttctcat tttaactata ttgattttat attttttgtg tctgattgag\n",
      "      541 cgtctgttac atcgaagagt atatggtaat cgttttcgag agatactgat catgaaaatg\n",
      "      601 atataaagag cattgtaatg aaacgccc\n",
      "//\n",
      "\n",
      "\n"
     ]
    }
   ],
   "source": [
    "efetch_handle = Entrez.efetch(db=\"nuccore\", id=\"40867581\", rettype=\"gb\", retmode=\"text\")\n",
    "gbrecord = efetch_handle.read()\n",
    "print(gbrecord)\n"
   ]
  },
  {
   "cell_type": "code",
   "execution_count": 7,
   "id": "b4b297e5-33d9-4fb4-8dd1-88e82f684727",
   "metadata": {},
   "outputs": [
    {
     "name": "stdout",
     "output_type": "stream",
     "text": [
      "LOCUS       T15429                   431 bp    mRNA    linear   EST 25-JAN-2011\n",
      "DEFINITION  IB1151 Infant brain, Bento Soares Homo sapiens cDNA 3'end similar\n",
      "            to H.sapiens mRNA MBP-2 for MHC binding protein 2, mRNA sequence.\n",
      "ACCESSION   T15429\n",
      "VERSION     T15429.1\n",
      "DBLINK      BioSample: SAMN00154726\n",
      "KEYWORDS    EST.\n",
      "SOURCE      Homo sapiens (human)\n",
      "  ORGANISM  Homo sapiens\n",
      "            Eukaryota; Metazoa; Chordata; Craniata; Vertebrata; Euteleostomi;\n",
      "            Mammalia; Eutheria; Euarchontoglires; Primates; Haplorrhini;\n",
      "            Catarrhini; Hominidae; Homo.\n",
      "REFERENCE   1  (bases 1 to 431)\n",
      "  AUTHORS   Berry,R., Stevens,T.J., Walter,N.A.R., Wilcox,A.S., Rubano,T.,\n",
      "            Hopkins,J.A., Weber,J., Goold,R., Soares,M.B. and Sikela,J.M.\n",
      "  TITLE     Gene-based Sequence Tagged Sites (STSs) as the basis for a human\n",
      "            gene map\n",
      "  JOURNAL   Nat. Genet. 10, 415-423 (1995)\n",
      "   PUBMED   7670491\n",
      "COMMENT     Contact: Sikela JM\n",
      "            Department of Pharmacology\n",
      "            University of Colorado Health Sciences Center\n",
      "            Box C236, 4200 E. 9th Ave, Denver CO 80262-0236\n",
      "            Tel: 3032708637\n",
      "            Fax: 3032707097\n",
      "            Email: nikki@tally.uchsc.edu\n",
      "            Seq primer: -21M13 Universal.\n",
      "FEATURES             Location/Qualifiers\n",
      "     source          1..431\n",
      "                     /organism=\"Homo sapiens\"\n",
      "                     /mol_type=\"mRNA\"\n",
      "                     /db_xref=\"taxon:9606\"\n",
      "                     /clone_lib=\"SAMN00154726 Infant brain, Bento Soares\"\n",
      "                     /lab_host=\"E. coli DH5-alpha\"\n",
      "                     /note=\"Vector: BA, M13-derived; Site_1: HindIII; Site_2:\n",
      "                     NotI; The infant brain library, constructed by Bento\n",
      "                     Soares, Columbia University, was oligo-(dT) primed and\n",
      "                     directionally cloned into an M13-derived plasmid using\n",
      "                     total brain mRNA from a 72-day old human female afflicted\n",
      "                     with spinal muscular atrophy.\"\n",
      "ORIGIN      \n",
      "        1 aagcatgtaa ttgtatattt atttctcttt ttaaagaaca ctccttaatg taattcaata\n",
      "       61 tacaaacttg gtttcacaga attataatcc actatatagc acaaagataa cccagattgt\n",
      "      121 atgtgtgcgt gcacacatgt gcgtgcctgt gcacatgtng ctgcacccct ccctctcttt\n",
      "      181 cactcttctg gacctacaaa tgctcttccc accttcaaca ctaaccaaaa gccattgtga\n",
      "      241 gtattacata caacagacat cctcccacgn gttctttgcc cttgaaagat tcttttcccc\n",
      "      301 attccccctg agatagccag gagtgtgaca ctcttcccct ntgaaaaagg gtaaggtgac\n",
      "      361 ctcccctaac acagatggtt aaccctggtt cccatgtaaa ccggctgaca ggagagctng\n",
      "      421 ggagcaggtc t\n",
      "//\n",
      "\n",
      "\n"
     ]
    }
   ],
   "source": [
    "efetch_handle = Entrez.efetch(db=\"nuccore\", id=\"517591\", rettype=\"gb\", retmode=\"text\")\n",
    "gbrecord = efetch_handle.read()\n",
    "print(gbrecord)\n"
   ]
  },
  {
   "cell_type": "code",
   "execution_count": 9,
   "id": "079022ab-47b5-4429-862e-518231199eac",
   "metadata": {},
   "outputs": [
    {
     "name": "stdout",
     "output_type": "stream",
     "text": [
      "LOCUS       CK506784                 628 bp    mRNA    linear   EST 11-JAN-2011\n",
      "DEFINITION  rswcc0_012524.y1 swc Bombyx mori cDNA, mRNA sequence.\n",
      "ACCESSION   CK506784\n",
      "VERSION     CK506784.1\n",
      "DBLINK      BioSample: SAMN00174507\n",
      "KEYWORDS    EST.\n",
      "SOURCE      Bombyx mori (domestic silkworm)\n",
      "  ORGANISM  Bombyx mori\n",
      "            Eukaryota; Metazoa; Ecdysozoa; Arthropoda; Hexapoda; Insecta;\n",
      "            Pterygota; Neoptera; Endopterygota; Lepidoptera; Glossata;\n",
      "            Ditrysia; Bombycoidea; Bombycidae; Bombycinae; Bombyx.\n",
      "REFERENCE   1  (bases 1 to 628)\n",
      "  AUTHORS   Xia,Q., Zhou,Z., Lu,C., Cheng,D., Dai,F., Li,B., Zhao,P., Zha,X.,\n",
      "            Cheng,T., Chai,C., Pan,G., Xu,J., Liu,C., Lin,Y., Qian,J., Hou,Y.,\n",
      "            Wu,Z., Li,G., Pan,M., Li,C., Shen,Y., Lan,X., Yuan,L., Li,T.,\n",
      "            Xu,H., Yang,G., Wan,Y., Zhu,Y., Yu,M., Shen,W., Wu,D., Xiang,Z.,\n",
      "            Yu,J., Wang,J., Li,R.Q., Shi,J.P., Li,H., Li,G.Y., Su,J.N.,\n",
      "            Wang,X.L., Li,G.Q., Zhang,Z.J., Wu,Q.F., Li,J., Zhang,Q.P., Wei,N.,\n",
      "            Xu,J.Z., Sun,H.B., Dong,L., Liu,D.Y., Zhao,S.L., Zhao,X.L.,\n",
      "            Meng,Q.S., Lan,F.D., Huang,X.G., Li,Y.Z., Fang,F., Li,C.F.,\n",
      "            Li,D.W., Sun,Y.Q., Zhang,Z.P., Yang,Z., Huang,Y.Q., Xi,Y., Qi,Q.H.,\n",
      "            He,D.D., Huang,H.Y., Zhang,X.W., Wang,Z.Q., Li,W.J., Cao,Y.Z.,\n",
      "            Yu,Y., Yu,H., Ji,H., Ye,J., Chen,H., Zhou,Y., Liu,B., Wang,J.,\n",
      "            Ye,J., Ji,H., Li,S., Ni,P., Zhang,J., Zhang,Y., Zheng,H., Mao,B.,\n",
      "            Mao,B., Ye,C., Li,S., Wang,J., Wong,G.K. and Yang,H.\n",
      "  TITLE     A draft sequence for the genome of the domesticated silkworm\n",
      "            (Bombyx mori)\n",
      "  JOURNAL   Science 306 (5703), 1937-1940 (2004)\n",
      "   PUBMED   15591204\n",
      "COMMENT     Contact: Zhonghuai Xiang\n",
      "            Southwest Agricultural University\n",
      "            Chongqing Beibei\n",
      "            Tel: 86-23-68251123\n",
      "            Fax: 86-23-68251128\n",
      "            Email: xzh@swau.cq.cn.\n",
      "FEATURES             Location/Qualifiers\n",
      "     source          1..628\n",
      "                     /organism=\"Bombyx mori\"\n",
      "                     /mol_type=\"mRNA\"\n",
      "                     /strain=\"DaZhao(P50)\"\n",
      "                     /db_xref=\"taxon:7091\"\n",
      "                     /sex=\"female\"\n",
      "                     /tissue_type=\"Fat body\"\n",
      "                     /clone_lib=\"SAMN00174507 swc\"\n",
      "                     /dev_stage=\"5th-instar day-3 larva\"\n",
      "                     /note=\"Vector: pBluescript II SK(+)\"\n",
      "ORIGIN      \n",
      "        1 cccgggctgc aggaatcgaa tccgtttggt aagatcaatc caatatgact ctcatatggt\n",
      "       61 gacggtatga taactcagga gaatgtaaac atctaatcga cttagagtaa aaatgtaata\n",
      "      121 atttttacaa ggtcaatagg aagtgagtat gtaggaggcc tctgtgagtc cagacggtct\n",
      "      181 aaaagagttt ttaacaactt atgaagtagg aacgttgact cgtaaatttt tcgatggctt\n",
      "      241 cttcaatatt tgtgcagtct taatattact tgtattcatc cagtactagt agttgtaagg\n",
      "      301 tgttagattt aaaaaagaaa aaaaaactgt agtttttata aactgtcatt tttttgcatt\n",
      "      361 ctgtgtaaat aattatcgtt ttcggtactt tatacaaacg tattttgtaa agcgatggat\n",
      "      421 ttatacagtt tttattctat ataagtcatt tttattatta taatttacgg ttttcattac\n",
      "      481 ctagtaatca tgtttctcat tttaactata ttgattttat attttttgtg tctgattgag\n",
      "      541 cgtctgttac atcgaagagt atatggtaat cgttttcgag agatactgat catgaaaatg\n",
      "      601 atataaagag cattgtaatg aaacgccc\n",
      "//\n",
      "\n",
      "\n"
     ]
    }
   ],
   "source": [
    "efetch_handle = Entrez.efetch(db=\"nuccore\", id=\"40867581\", rettype=\"gb\", retmode=\"text\")\n",
    "gbrecord = efetch_handle.read()\n",
    "print(gbrecord)"
   ]
  },
  {
   "cell_type": "code",
   "execution_count": 10,
   "id": "728806f4-30fd-48cf-a5db-935a533cc8b3",
   "metadata": {},
   "outputs": [
    {
     "name": "stdout",
     "output_type": "stream",
     "text": [
      ">CK506784.1 rswcc0_012524.y1 swc Bombyx mori cDNA, mRNA sequence\n",
      "CCCGGGCTGCAGGAATCGAATCCGTTTGGTAAGATCAATCCAATATGACTCTCATATGGTGACGGTATGA\n",
      "TAACTCAGGAGAATGTAAACATCTAATCGACTTAGAGTAAAAATGTAATAATTTTTACAAGGTCAATAGG\n",
      "AAGTGAGTATGTAGGAGGCCTCTGTGAGTCCAGACGGTCTAAAAGAGTTTTTAACAACTTATGAAGTAGG\n",
      "AACGTTGACTCGTAAATTTTTCGATGGCTTCTTCAATATTTGTGCAGTCTTAATATTACTTGTATTCATC\n",
      "CAGTACTAGTAGTTGTAAGGTGTTAGATTTAAAAAAGAAAAAAAAACTGTAGTTTTTATAAACTGTCATT\n",
      "TTTTTGCATTCTGTGTAAATAATTATCGTTTTCGGTACTTTATACAAACGTATTTTGTAAAGCGATGGAT\n",
      "TTATACAGTTTTTATTCTATATAAGTCATTTTTATTATTATAATTTACGGTTTTCATTACCTAGTAATCA\n",
      "TGTTTCTCATTTTAACTATATTGATTTTATATTTTTTGTGTCTGATTGAGCGTCTGTTACATCGAAGAGT\n",
      "ATATGGTAATCGTTTTCGAGAGATACTGATCATGAAAATGATATAAAGAGCATTGTAATGAAACGCCC\n",
      "\n",
      "\n"
     ]
    }
   ],
   "source": [
    "efetch_handle = Entrez.efetch(db=\"nuccore\", id=\"40867581\", rettype=\"fasta\", retmode=\"text\")\n",
    "gbrecord = efetch_handle.read()\n",
    "print(gbrecord)\n"
   ]
  },
  {
   "cell_type": "code",
   "execution_count": 14,
   "id": "0e361209-f108-426a-9a60-122635a70328",
   "metadata": {},
   "outputs": [
    {
     "name": "stdout",
     "output_type": "stream",
     "text": [
      "FASTA Download\n"
     ]
    }
   ],
   "source": [
    "import os\n",
    "\n",
    "#creating EFetch handle\n",
    "filename = \"Bombyx mori cDNA,mRNA sequens.fasta\" #up to you, but Genbank files always use *.fasta or *.fas \n",
    "\n",
    "#creating EFetch handle\n",
    "if not os.path.isfile(filename):\n",
    "    # Downloading file...\n",
    "    efetch_handle = Entrez.efetch(db=\"nuccore\", id=\"40867581\", rettype=\"fasta\", retmode=\"text\")\n",
    "    output_file_handle = open(filename, \"w\")\n",
    "    output_file_handle.write(efetch_handle.read())\n",
    "    output_file_handle.close()\n",
    "    efetch_handle.close()\n",
    "    print(\"FASTA Download\")\n"
   ]
  },
  {
   "cell_type": "code",
   "execution_count": 17,
   "id": "c20c7751-3d58-49c9-99ae-582b2f19c25d",
   "metadata": {},
   "outputs": [
    {
     "name": "stdout",
     "output_type": "stream",
     "text": [
      "GB Download\n"
     ]
    }
   ],
   "source": [
    "#creating EFetch handle\n",
    "filename = \"Bombyx mori strain p50T chromosome 8, Bmori_2016v1.0, whole genome shotgun sequence.gbk\" #up to you, but Genbank files always use *.gb or *.gbk \n",
    "\n",
    "#creating EFetch handle\n",
    "if not os.path.isfile(filename):\n",
    "    # Downloading file...\n",
    "    efetch_handle = Entrez.efetch(db=\"gene\", id=\"051365\", rettype=\"gb\", retmode=\"text\")\n",
    "    output_file_handle = open(filename, \"w\")\n",
    "    output_file_handle.write(efetch_handle.read())\n",
    "    output_file_handle.close()\n",
    "    efetch_handle.close()\n",
    "    print(\"GB Download\")\n"
   ]
  },
  {
   "cell_type": "code",
   "execution_count": 88,
   "id": "e4a4d3ba-c4a1-4857-aab5-6eae0a494866",
   "metadata": {
    "tags": []
   },
   "outputs": [],
   "source": [
    "from Bio import SeqIO\n",
    "GoI = \"p50T\" #change \"p50T\" here with your GoI\n",
    "\n",
    "for genome in SeqIO.parse(\"Bombyx mori strain p50T chromosome 8, Bmori_2016v1.0, whole genome shotgun sequence.gbk\",\"genbank\"):\n",
    "    for gene in genome.features:\n",
    "        if gene.type != \"CDS\":\n",
    "            continue\n",
    "        if \"gene\" not in gene.qualifiers:\n",
    "            continue\n",
    "        if GoI not in gene.qualifiers[\"gene\"][0]: \n",
    "            continue\n",
    "        gene_seq = gene.extract(genome.seq)\n",
    "GoI_fasta = \">%s|%s\\n%s\" % (GoI, genome.description, gene_seq)\n",
    "print(GoI_fasta)\n"
   ]
  },
  {
   "cell_type": "code",
   "execution_count": null,
   "id": "f52ccb9f-95ab-40b7-bc45-40ea8a164170",
   "metadata": {},
   "outputs": [],
   "source": []
  },
  {
   "cell_type": "code",
   "execution_count": null,
   "id": "3db5f044-f2f3-4b4e-aa73-901bf1169858",
   "metadata": {},
   "outputs": [],
   "source": []
  }
 ],
 "metadata": {
  "kernelspec": {
   "display_name": "Python 3 (ipykernel)",
   "language": "python",
   "name": "python3"
  },
  "language_info": {
   "codemirror_mode": {
    "name": "ipython",
    "version": 3
   },
   "file_extension": ".py",
   "mimetype": "text/x-python",
   "name": "python",
   "nbconvert_exporter": "python",
   "pygments_lexer": "ipython3",
   "version": "3.9.7"
  }
 },
 "nbformat": 4,
 "nbformat_minor": 5
}
